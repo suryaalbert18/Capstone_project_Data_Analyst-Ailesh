{
 "cells": [
  {
   "cell_type": "markdown",
   "id": "d7fb1f63-63b4-4488-93ef-fae72e8f6ea5",
   "metadata": {},
   "source": [
    "> # MAIN KPI"
   ]
  },
  {
   "cell_type": "markdown",
   "id": "fc6b1cd3-a7c1-4e75-85bf-7a0e5599fe9f",
   "metadata": {},
   "source": [
    "# Total Emission"
   ]
  },
  {
   "cell_type": "code",
   "execution_count": 1,
   "id": "857d457b-7fb0-4345-a3a4-9a7afcfff89c",
   "metadata": {},
   "outputs": [
    {
     "name": "stdout",
     "output_type": "stream",
     "text": [
      "Total Output_Amount for Emission: 57974975286909.58\n"
     ]
    }
   ],
   "source": [
    "import pandas as pd\n",
    "\n",
    "# Membaca file CSV\n",
    "data = pd.read_csv('Database - All_Output.csv')\n",
    "\n",
    "# Memfilter data untuk Output_Category yang equal to Emission\n",
    "emission_data = data[data['Output_Category'] == 'Emission'].copy()\n",
    "\n",
    "# Mengubah Output_Amount menjadi numerik\n",
    "emission_data['Output_Amount'] = pd.to_numeric(emission_data['Output_Amount'], errors='coerce')\n",
    "\n",
    "# Menghitung total Output_Amount\n",
    "total_emission_output = emission_data['Output_Amount'].sum()\n",
    "\n",
    "# Mencetak hasilnya\n",
    "print(f\"Total Output_Amount for Emission: {total_emission_output}\")"
   ]
  },
  {
   "cell_type": "markdown",
   "id": "7fa682f0-0ee2-43af-8359-a704b07eefd0",
   "metadata": {},
   "source": [
    "## Sector Mining"
   ]
  },
  {
   "cell_type": "code",
   "execution_count": 2,
   "id": "5598ea16-8472-4011-8b67-bc09aef3ddbe",
   "metadata": {},
   "outputs": [
    {
     "name": "stdout",
     "output_type": "stream",
     "text": [
      "Total Output_Amount for Mining Emission: 93586279805.6228\n"
     ]
    }
   ],
   "source": [
    "import pandas as pd\n",
    "\n",
    "# Membaca file CSV\n",
    "data = pd.read_csv('Database - All_Output.csv')\n",
    "\n",
    "# Memfilter data untuk Sector = 'Mining' dan Output_Category = 'Emission' \n",
    "emission_data = data[(data['Sector'] == 'Mining') & (data['Output_Category'] == 'Emission')].copy()\n",
    "\n",
    "# Mengubah Output_Amount menjadi numerik\n",
    "emission_data['Output_Amount'] = pd.to_numeric(emission_data['Output_Amount'], errors='coerce')\n",
    "\n",
    "# Menghitung total Output_Amount\n",
    "total_emission_output = emission_data['Output_Amount'].sum()\n",
    "\n",
    "# Mencetak hasilnya\n",
    "print(f\"Total Output_Amount for Mining Emission: {total_emission_output}\")"
   ]
  },
  {
   "cell_type": "markdown",
   "id": "4d43a201-a692-4ded-b747-6235c3a5dfbc",
   "metadata": {},
   "source": [
    "## Sector Power Plant"
   ]
  },
  {
   "cell_type": "code",
   "execution_count": 3,
   "id": "1d26aa98-b3ed-49a5-94ef-7b6eb7e10698",
   "metadata": {},
   "outputs": [
    {
     "name": "stdout",
     "output_type": "stream",
     "text": [
      "Total Output_Amount for Power Plant Emission: 57877482913492.03\n"
     ]
    }
   ],
   "source": [
    "import pandas as pd\n",
    "\n",
    "# Membaca file CSV\n",
    "data = pd.read_csv('Database - All_Output.csv')\n",
    "\n",
    "# Memfilter data untuk Sector = 'Power Plant' dan Output_Category = 'Emission' \n",
    "emission_data = data[(data['Sector'] == 'Power Plant') & (data['Output_Category'] == 'Emission')].copy()\n",
    "\n",
    "# Mengubah Output_Amount menjadi numerik\n",
    "emission_data['Output_Amount'] = pd.to_numeric(emission_data['Output_Amount'], errors='coerce')\n",
    "\n",
    "# Menghitung total Output_Amount\n",
    "total_emission_output = emission_data['Output_Amount'].sum()\n",
    "\n",
    "# Mencetak hasilnya\n",
    "print(f\"Total Output_Amount for Power Plant Emission: {total_emission_output}\")"
   ]
  },
  {
   "cell_type": "markdown",
   "id": "954df6b3-5839-41e0-a11a-43f90c0df661",
   "metadata": {},
   "source": [
    "## Sector Oil dan Gas Distribution"
   ]
  },
  {
   "cell_type": "code",
   "execution_count": 4,
   "id": "0bf5a9d4-6ab6-442a-b620-13afa78ec3a3",
   "metadata": {},
   "outputs": [
    {
     "name": "stdout",
     "output_type": "stream",
     "text": [
      "Total Output_Amount for Oil & Gas Distribution Emission: 3906093611.9172926\n"
     ]
    }
   ],
   "source": [
    "import pandas as pd\n",
    "\n",
    "# Membaca file CSV\n",
    "data = pd.read_csv('Database - All_Output.csv')\n",
    "\n",
    "# Memfilter data untuk Sector = 'Oil & Gas Distribution' dan Output_Category = 'Emission' \n",
    "emission_data = data[(data['Sector'] == 'Oil & Gas Distribution') & (data['Output_Category'] == 'Emission')].copy()\n",
    "\n",
    "# Mengubah Output_Amount menjadi numerik\n",
    "emission_data['Output_Amount'] = pd.to_numeric(emission_data['Output_Amount'], errors='coerce')\n",
    "\n",
    "# Menghitung total Output_Amount\n",
    "total_emission_output = emission_data['Output_Amount'].sum()\n",
    "\n",
    "# Mencetak hasilnya\n",
    "print(f\"Total Output_Amount for Oil & Gas Distribution Emission: {total_emission_output}\")"
   ]
  },
  {
   "cell_type": "markdown",
   "id": "e4ad638b-21e5-480f-843c-ec201d5dda89",
   "metadata": {},
   "source": [
    "# Total Carbon Dioxide (CO2) "
   ]
  },
  {
   "cell_type": "code",
   "execution_count": 5,
   "id": "7c75fba2-5e07-4be6-83bd-aa64f4d93707",
   "metadata": {},
   "outputs": [
    {
     "name": "stdout",
     "output_type": "stream",
     "text": [
      "Total Output_Amount for Carbon Dioxide (CO2): 8583693909.817644\n"
     ]
    }
   ],
   "source": [
    "import pandas as pd\n",
    "\n",
    "# Membaca file CSV\n",
    "data = pd.read_csv('Database - All_Output.csv')\n",
    "\n",
    "# Memfilter data untuk Output yang equal to 'Carbon Dioxide (CO2)'\n",
    "co2_data = data[data['Output'] == 'Carbon Dioxide (CO2)'].copy()\n",
    "\n",
    "# Mengubah Output_Amount menjadi numerik\n",
    "co2_data['Output_Amount'] = pd.to_numeric(co2_data['Output_Amount'], errors='coerce')\n",
    "\n",
    "# Menghitung total Output_Amount\n",
    "total_co2_output = co2_data['Output_Amount'].sum()\n",
    "\n",
    "# Mencetak hasilnya\n",
    "print(f\"Total Output_Amount for Carbon Dioxide (CO2): {total_co2_output}\")"
   ]
  },
  {
   "cell_type": "markdown",
   "id": "1efb7f92-bab4-4623-9b6a-7a1b5ecd9516",
   "metadata": {},
   "source": [
    "## Sector Mining"
   ]
  },
  {
   "cell_type": "code",
   "execution_count": 6,
   "id": "165eb9d2-6e77-4a75-bcca-efe442fcd3dd",
   "metadata": {},
   "outputs": [
    {
     "name": "stdout",
     "output_type": "stream",
     "text": [
      "Total Output_Amount for Mining Carbon Dioxide (CO2): 190528533.0951\n"
     ]
    }
   ],
   "source": [
    "import pandas as pd\n",
    "\n",
    "# Membaca file CSV\n",
    "data = pd.read_csv('Database - All_Output.csv')\n",
    "\n",
    "# Memfilter data untuk Sector = 'Mining' dan Output = 'Carbon Dioxide (CO2)' \n",
    "co2_data = data[(data['Sector'] == 'Mining') & (data['Output'] == 'Carbon Dioxide (CO2)')].copy()\n",
    "\n",
    "# Mengubah Output_Amount menjadi numerik\n",
    "co2_data['Output_Amount'] = pd.to_numeric(co2_data['Output_Amount'], errors='coerce')\n",
    "\n",
    "# Menghitung total Output_Amount\n",
    "total_co2_output = co2_data['Output_Amount'].sum()\n",
    "\n",
    "# Mencetak hasilnya\n",
    "print(f\"Total Output_Amount for Mining Carbon Dioxide (CO2): {total_co2_output}\")"
   ]
  },
  {
   "cell_type": "markdown",
   "id": "9011731f-33cb-4c68-8887-a915cefcffaf",
   "metadata": {},
   "source": [
    "## Sector Power Plant"
   ]
  },
  {
   "cell_type": "code",
   "execution_count": 7,
   "id": "e27ca2c6-e73b-4920-8460-a840097cfd7c",
   "metadata": {},
   "outputs": [
    {
     "name": "stdout",
     "output_type": "stream",
     "text": [
      "Total Output_Amount for Power Plant Carbon Dioxide (CO2): 4509766992.695778\n"
     ]
    }
   ],
   "source": [
    "import pandas as pd\n",
    "\n",
    "# Membaca file CSV\n",
    "data = pd.read_csv('Database - All_Output.csv')\n",
    "\n",
    "# Memfilter data untuk Sector = 'Power Plant' dan Output = 'Carbon Dioxide (CO2)' \n",
    "co2_data = data[(data['Sector'] == 'Power Plant') & (data['Output'] == 'Carbon Dioxide (CO2)')].copy()\n",
    "\n",
    "# Mengubah Output_Amount menjadi numerik\n",
    "co2_data['Output_Amount'] = pd.to_numeric(co2_data['Output_Amount'], errors='coerce')\n",
    "\n",
    "# Menghitung total Output_Amount\n",
    "total_co2_output = co2_data['Output_Amount'].sum()\n",
    "\n",
    "# Mencetak hasilnya\n",
    "print(f\"Total Output_Amount for Power Plant Carbon Dioxide (CO2): {total_co2_output}\")"
   ]
  },
  {
   "cell_type": "markdown",
   "id": "abfff87a-564f-4a08-afaa-1734a8fafc3c",
   "metadata": {},
   "source": [
    "## Sector Oil dan Gas Distribution"
   ]
  },
  {
   "cell_type": "code",
   "execution_count": 8,
   "id": "98537212-ecd1-4005-b213-448baeeb6d2f",
   "metadata": {},
   "outputs": [
    {
     "name": "stdout",
     "output_type": "stream",
     "text": [
      "Total Output_Amount for Oil & Gas Distribution Carbon Dioxide (CO2): 3883398384.026766\n"
     ]
    }
   ],
   "source": [
    "import pandas as pd\n",
    "\n",
    "# Membaca file CSV\n",
    "data = pd.read_csv('Database - All_Output.csv')\n",
    "\n",
    "# Memfilter data untuk Sector = 'Oil & Gas Distribution' dan Output = 'Carbon Dioxide (CO2)' \n",
    "co2_data = data[(data['Sector'] == 'Oil & Gas Distribution') & (data['Output'] == 'Carbon Dioxide (CO2)')].copy()\n",
    "\n",
    "# Mengubah Output_Amount menjadi numerik\n",
    "co2_data['Output_Amount'] = pd.to_numeric(co2_data['Output_Amount'], errors='coerce')\n",
    "\n",
    "# Menghitung total Output_Amount\n",
    "total_co2_output = co2_data['Output_Amount'].sum()\n",
    "\n",
    "# Mencetak hasilnya\n",
    "print(f\"Total Output_Amount for Oil & Gas Distribution Carbon Dioxide (CO2): {total_co2_output}\")"
   ]
  },
  {
   "cell_type": "markdown",
   "id": "e1380e35-8123-4ac5-b3f2-583076880155",
   "metadata": {},
   "source": [
    "# Total Sulfur Oxide (SOx)"
   ]
  },
  {
   "cell_type": "code",
   "execution_count": 9,
   "id": "82602a33-31bf-459a-9e08-211692f4fff2",
   "metadata": {},
   "outputs": [
    {
     "name": "stdout",
     "output_type": "stream",
     "text": [
      "Total Output_Amount for Sulfur Oxide (SOx): 297524.60638427525\n"
     ]
    }
   ],
   "source": [
    "import pandas as pd\n",
    "\n",
    "# Membaca file CSV\n",
    "data = pd.read_csv('Database - All_Output.csv')\n",
    "\n",
    "# Memfilter data untuk Output yang equal to 'Sulfur Oxide (SOx)'\n",
    "sox_data = data[data['Output'] == 'Sulfur Oxide (SOx)'].copy()\n",
    "\n",
    "# Mengubah Output_Amount menjadi numerik\n",
    "sox_data['Output_Amount'] = pd.to_numeric(sox_data['Output_Amount'], errors='coerce')\n",
    "\n",
    "# Menghitung total Output_Amount\n",
    "total_sox_output = sox_data['Output_Amount'].sum()\n",
    "\n",
    "# Mencetak hasilnya\n",
    "print(f\"Total Output_Amount for Sulfur Oxide (SOx): {total_sox_output}\")"
   ]
  },
  {
   "cell_type": "markdown",
   "id": "6729b1aa-f09c-4b34-9e05-a2f50e83ff19",
   "metadata": {},
   "source": [
    "## Sector Mining"
   ]
  },
  {
   "cell_type": "code",
   "execution_count": 10,
   "id": "78b29c74-5648-4457-9ff4-20b679584a36",
   "metadata": {},
   "outputs": [
    {
     "name": "stdout",
     "output_type": "stream",
     "text": [
      "Total Output_Amount for Mining Sulfur Oxide (SOx): 22903.5\n"
     ]
    }
   ],
   "source": [
    "import pandas as pd\n",
    "\n",
    "# Membaca file CSV\n",
    "data = pd.read_csv('Database - All_Output.csv')\n",
    "\n",
    "# Memfilter data untuk Sector = 'Mining' dan Output = 'Sulfur Oxide (SOx)' \n",
    "sox_data = data[(data['Sector'] == 'Mining') & (data['Output'] == 'Sulfur Oxide (SOx)')].copy()\n",
    "\n",
    "# Mengubah Output_Amount menjadi numerik\n",
    "sox_data['Output_Amount'] = pd.to_numeric(sox_data['Output_Amount'], errors='coerce')\n",
    "\n",
    "# Menghitung total Output_Amount\n",
    "total_sox_output = sox_data['Output_Amount'].sum()\n",
    "\n",
    "# Mencetak hasilnya\n",
    "print(f\"Total Output_Amount for Mining Sulfur Oxide (SOx): {total_sox_output}\")"
   ]
  },
  {
   "cell_type": "markdown",
   "id": "d4024055-f9f7-45ef-929b-9b77b5755cc5",
   "metadata": {},
   "source": [
    "## Sector Power Plant"
   ]
  },
  {
   "cell_type": "code",
   "execution_count": 11,
   "id": "b67f9dbd-a1ca-4619-81d2-46fc9ca1bd52",
   "metadata": {},
   "outputs": [
    {
     "name": "stdout",
     "output_type": "stream",
     "text": [
      "Total Output_Amount for Power Plant Sulfur Oxide (SOx): 0.0\n"
     ]
    }
   ],
   "source": [
    "import pandas as pd\n",
    "\n",
    "# Membaca file CSV\n",
    "data = pd.read_csv('Database - All_Output.csv')\n",
    "\n",
    "# Memfilter data untuk Sector = 'Power Plant' dan Output = 'Sulfur Oxide (SOx)' \n",
    "sox_data = data[(data['Sector'] == 'Power Plant') & (data['Output'] == 'Sulfur Oxide (SOx)')].copy()\n",
    "\n",
    "# Mengubah Output_Amount menjadi numerik\n",
    "sox_data['Output_Amount'] = pd.to_numeric(sox_data['Output_Amount'], errors='coerce')\n",
    "\n",
    "# Menghitung total Output_Amount\n",
    "total_sox_output = sox_data['Output_Amount'].sum()\n",
    "\n",
    "# Mencetak hasilnya\n",
    "print(f\"Total Output_Amount for Power Plant Sulfur Oxide (SOx): {total_sox_output}\")"
   ]
  },
  {
   "cell_type": "markdown",
   "id": "6618061b-d196-4b49-be68-6585cca707d7",
   "metadata": {},
   "source": [
    "## Sector Oil dan Gas Distribution"
   ]
  },
  {
   "cell_type": "code",
   "execution_count": 54,
   "id": "2e2b672a-2c57-42b9-8d05-00e7211630b8",
   "metadata": {},
   "outputs": [
    {
     "name": "stdout",
     "output_type": "stream",
     "text": [
      "Total Output_Amount for Oil & Gas Distribution Sulfur Oxide (SOx): 274621.10638427525\n"
     ]
    }
   ],
   "source": [
    "import pandas as pd\n",
    "\n",
    "# Membaca file CSV\n",
    "data = pd.read_csv('Database - All_Output.csv')\n",
    "\n",
    "# Memfilter data untuk Sector = 'Oil & Gas Distribution' dan Output = 'Sulfur Oxide (SOx)' \n",
    "sox_data = data[(data['Sector'] == 'Oil & Gas Distribution') & (data['Output'] == 'Sulfur Oxide (SOx)')].copy()\n",
    "\n",
    "# Mengubah Output_Amount menjadi numerik\n",
    "sox_data['Output_Amount'] = pd.to_numeric(sox_data['Output_Amount'], errors='coerce')\n",
    "\n",
    "# Menghitung total Output_Amount\n",
    "total_sox_output = sox_data['Output_Amount'].sum()\n",
    "\n",
    "# Mencetak hasilnya\n",
    "print(f\"Total Output_Amount for Oil & Gas Distribution Sulfur Oxide (SOx): {total_sox_output}\")"
   ]
  },
  {
   "cell_type": "markdown",
   "id": "16d685d4-607d-4e02-bac4-e554208e147e",
   "metadata": {},
   "source": [
    "# Total Nitrogen Oxide (NOx)"
   ]
  },
  {
   "cell_type": "code",
   "execution_count": 13,
   "id": "f70d9128-c4db-46e6-922c-994e40947ee6",
   "metadata": {},
   "outputs": [
    {
     "name": "stdout",
     "output_type": "stream",
     "text": [
      "Total Output_Amount for Nitrogen Oxide (NOx): 28601700.822528314\n"
     ]
    }
   ],
   "source": [
    "import pandas as pd\n",
    "\n",
    "# Membaca file CSV\n",
    "data = pd.read_csv('Database - All_Output.csv')\n",
    "\n",
    "# Memfilter data untuk Output yang equal to 'Nitrogen Oxide (NOx)'\n",
    "nox_data = data[data['Output'] == 'Nitrogen Oxide (NOx)'].copy()\n",
    "\n",
    "# Mengubah Output_Amount menjadi numerik\n",
    "nox_data['Output_Amount'] = pd.to_numeric(nox_data['Output_Amount'], errors='coerce')\n",
    "\n",
    "# Menghitung total Output_Amount\n",
    "total_nox_output = nox_data['Output_Amount'].sum()\n",
    "\n",
    "# Mencetak hasilnya\n",
    "print(f\"Total Output_Amount for Nitrogen Oxide (NOx): {total_nox_output}\")"
   ]
  },
  {
   "cell_type": "markdown",
   "id": "208b4f4a-b210-4fe1-ba88-b9f5c50300c5",
   "metadata": {},
   "source": [
    "## Sector Mining"
   ]
  },
  {
   "cell_type": "code",
   "execution_count": 14,
   "id": "2d41a4f4-c85f-47d5-a25e-33d711ddbb33",
   "metadata": {},
   "outputs": [
    {
     "name": "stdout",
     "output_type": "stream",
     "text": [
      "Total Output_Amount for Mining Nitrogen Oxide (NOx): 557869.0\n"
     ]
    }
   ],
   "source": [
    "import pandas as pd\n",
    "\n",
    "# Membaca file CSV\n",
    "data = pd.read_csv('Database - All_Output.csv')\n",
    "\n",
    "# Memfilter data untuk Sector = 'Mining' dan Output = 'Nitrogen Oxide (NOx)' \n",
    "nox_data = data[(data['Sector'] == 'Mining') & (data['Output'] == 'Nitrogen Oxide (NOx)')].copy()\n",
    "\n",
    "# Mengubah Output_Amount menjadi numerik\n",
    "nox_data['Output_Amount'] = pd.to_numeric(nox_data['Output_Amount'], errors='coerce')\n",
    "\n",
    "# Menghitung total Output_Amount\n",
    "total_nox_output = nox_data['Output_Amount'].sum()\n",
    "\n",
    "# Mencetak hasilnya\n",
    "print(f\"Total Output_Amount for Mining Nitrogen Oxide (NOx): {total_nox_output}\")"
   ]
  },
  {
   "cell_type": "markdown",
   "id": "7a565552-db3a-4752-86ea-aeb9aea60cc6",
   "metadata": {},
   "source": [
    "## Sector Power Plant"
   ]
  },
  {
   "cell_type": "code",
   "execution_count": 15,
   "id": "f3eb1907-0188-4dba-910a-4c038bc0d67f",
   "metadata": {},
   "outputs": [
    {
     "name": "stdout",
     "output_type": "stream",
     "text": [
      "Total Output_Amount for Power Plant Nitrogen Oxide (NOx): 28025555.23\n"
     ]
    }
   ],
   "source": [
    "import pandas as pd\n",
    "\n",
    "# Membaca file CSV\n",
    "data = pd.read_csv('Database - All_Output.csv')\n",
    "\n",
    "# Memfilter data untuk Sector = 'Power Plant' dan Output = 'Nitrogen Oxide (NOx)' \n",
    "nox_data = data[(data['Sector'] == 'Power Plant') & (data['Output'] == 'Nitrogen Oxide (NOx)')].copy()\n",
    "\n",
    "# Mengubah Output_Amount menjadi numerik\n",
    "nox_data['Output_Amount'] = pd.to_numeric(nox_data['Output_Amount'], errors='coerce')\n",
    "\n",
    "# Menghitung total Output_Amount\n",
    "total_nox_output = nox_data['Output_Amount'].sum()\n",
    "\n",
    "# Mencetak hasilnya\n",
    "print(f\"Total Output_Amount for Power Plant Nitrogen Oxide (NOx): {total_nox_output}\")"
   ]
  },
  {
   "cell_type": "markdown",
   "id": "6b1aa6d9-b285-4840-8b00-f2167c8f4c4d",
   "metadata": {},
   "source": [
    "## Sector Oil dan Gas Distribution"
   ]
  },
  {
   "cell_type": "code",
   "execution_count": 16,
   "id": "ae1e5742-dcfb-4ce4-988d-428221de7e7f",
   "metadata": {},
   "outputs": [
    {
     "name": "stdout",
     "output_type": "stream",
     "text": [
      "Total Output_Amount for Oil & Gas Distribution Nitrogen Oxide (NOx): 18276.592528314002\n"
     ]
    }
   ],
   "source": [
    "import pandas as pd\n",
    "\n",
    "# Membaca file CSV\n",
    "data = pd.read_csv('Database - All_Output.csv')\n",
    "\n",
    "# Memfilter data untuk Sector = 'Oil & Gas Distribution' dan Output = 'Nitrogen Oxide (NOx)' \n",
    "nox_data = data[(data['Sector'] == 'Oil & Gas Distribution') & (data['Output'] == 'Nitrogen Oxide (NOx)')].copy()\n",
    "\n",
    "# Mengubah Output_Amount menjadi numerik\n",
    "nox_data['Output_Amount'] = pd.to_numeric(nox_data['Output_Amount'], errors='coerce')\n",
    "\n",
    "# Menghitung total Output_Amount\n",
    "total_nox_output = nox_data['Output_Amount'].sum()\n",
    "\n",
    "# Mencetak hasilnya\n",
    "print(f\"Total Output_Amount for Oil & Gas Distribution Nitrogen Oxide (NOx): {total_nox_output}\")"
   ]
  },
  {
   "cell_type": "markdown",
   "id": "3599fac6-4fbe-480a-b3c4-8eefa38d95d9",
   "metadata": {},
   "source": [
    "# Total Energy Consumption "
   ]
  },
  {
   "cell_type": "code",
   "execution_count": 17,
   "id": "c8910c57-6ece-4a06-a279-8e07a0824862",
   "metadata": {},
   "outputs": [
    {
     "name": "stdout",
     "output_type": "stream",
     "text": [
      "Total Input_Amount for Energy: 2724839633149.124\n"
     ]
    }
   ],
   "source": [
    "import pandas as pd\n",
    "\n",
    "# Membaca file CSV\n",
    "data = pd.read_csv('Database - All Input.csv')\n",
    "\n",
    "# Memfilter data untuk Input_Category yang equal to Energy\n",
    "energy_data = data[data['Input_Category'] == 'Energy'].copy()\n",
    "\n",
    "# Mengubah Output_Amount menjadi numerik\n",
    "energy_data['Input_Amount'] = pd.to_numeric(energy_data['Input_Amount'], errors='coerce')\n",
    "\n",
    "# Menghitung total Output_Amount\n",
    "total_energy_output = energy_data['Input_Amount'].sum()\n",
    "\n",
    "# Mencetak hasilnya\n",
    "print(f\"Total Input_Amount for Energy: {total_energy_output}\")"
   ]
  },
  {
   "cell_type": "markdown",
   "id": "aae9dcac-8673-40c2-950e-2bb2f8601142",
   "metadata": {},
   "source": [
    "## Sector Mining"
   ]
  },
  {
   "cell_type": "code",
   "execution_count": 18,
   "id": "572af6e2-3f61-4386-9e4f-2a2a78ec9f45",
   "metadata": {},
   "outputs": [
    {
     "name": "stdout",
     "output_type": "stream",
     "text": [
      "Total Input_Amount for Mining Energy: 42690883.3264\n"
     ]
    }
   ],
   "source": [
    "import pandas as pd\n",
    "\n",
    "# Membaca file CSV\n",
    "data = pd.read_csv('Database - All Input.csv')\n",
    "\n",
    "# Memfilter data untuk Sector = 'Mining' dan Input_Category = 'Energy'\n",
    "energy_data = data[(data['Sector'] == 'Mining') & (data['Input_Category'] == 'Energy')].copy()\n",
    "\n",
    "# Mengubah Output_Amount menjadi numerik\n",
    "energy_data['Input_Amount'] = pd.to_numeric(energy_data['Input_Amount'], errors='coerce')\n",
    "\n",
    "# Menghitung total Output_Amount\n",
    "total_energy_output = energy_data['Input_Amount'].sum()\n",
    "\n",
    "# Mencetak hasilnya\n",
    "print(f\"Total Input_Amount for Mining Energy: {total_energy_output}\")"
   ]
  },
  {
   "cell_type": "markdown",
   "id": "44d2f6e5-0191-4dbd-93c9-3c1196a7449b",
   "metadata": {},
   "source": [
    "## Sector Power Plant"
   ]
  },
  {
   "cell_type": "code",
   "execution_count": 19,
   "id": "6088be8c-3922-4a03-89c1-407fb8915989",
   "metadata": {},
   "outputs": [
    {
     "name": "stdout",
     "output_type": "stream",
     "text": [
      "Total Input_Amount for Power Plant Energy: 2623451794987.7197\n"
     ]
    }
   ],
   "source": [
    "import pandas as pd\n",
    "\n",
    "# Membaca file CSV\n",
    "data = pd.read_csv('Database - All Input.csv')\n",
    "\n",
    "# Memfilter data untuk Sector = 'Power Plant' dan Input_Category = 'Energy'\n",
    "energy_data = data[(data['Sector'] == 'Power Plant') & (data['Input_Category'] == 'Energy')].copy()\n",
    "\n",
    "# Mengubah Output_Amount menjadi numerik\n",
    "energy_data['Input_Amount'] = pd.to_numeric(energy_data['Input_Amount'], errors='coerce')\n",
    "\n",
    "# Menghitung total Output_Amount\n",
    "total_energy_output = energy_data['Input_Amount'].sum()\n",
    "\n",
    "# Mencetak hasilnya\n",
    "print(f\"Total Input_Amount for Power Plant Energy: {total_energy_output}\")"
   ]
  },
  {
   "cell_type": "markdown",
   "id": "19ea0f5d-9dfe-4559-b632-a3efd1e9d2fa",
   "metadata": {},
   "source": [
    "## Sector Oil dan Gas Distribution"
   ]
  },
  {
   "cell_type": "code",
   "execution_count": 20,
   "id": "93997d2c-ffd0-4026-bb08-2077af21d4ca",
   "metadata": {},
   "outputs": [
    {
     "name": "stdout",
     "output_type": "stream",
     "text": [
      "Total Input_Amount for Oil & Gas Distribution Energy: 101345147278.07812\n"
     ]
    }
   ],
   "source": [
    "import pandas as pd\n",
    "\n",
    "# Membaca file CSV\n",
    "data = pd.read_csv('Database - All Input.csv')\n",
    "\n",
    "# Memfilter data untuk Sector = 'Oil & Gas Distribution' dan Input_Category = 'Energy'\n",
    "energy_data = data[(data['Sector'] == 'Oil & Gas Distribution') & (data['Input_Category'] == 'Energy')].copy()\n",
    "\n",
    "# Mengubah Output_Amount menjadi numerik\n",
    "energy_data['Input_Amount'] = pd.to_numeric(energy_data['Input_Amount'], errors='coerce')\n",
    "\n",
    "# Menghitung total Output_Amount\n",
    "total_energy_output = energy_data['Input_Amount'].sum()\n",
    "\n",
    "# Mencetak hasilnya\n",
    "print(f\"Total Input_Amount for Oil & Gas Distribution Energy: {total_energy_output}\")"
   ]
  },
  {
   "cell_type": "markdown",
   "id": "04d9b3e2-ed10-4323-bb6b-1ce8eab4aa5c",
   "metadata": {},
   "source": [
    "> # VISUALIZATION"
   ]
  },
  {
   "cell_type": "markdown",
   "id": "080da029-e493-4f0b-912d-a8774ec5aba9",
   "metadata": {},
   "source": [
    "## 1. Top Contributors to CO2 Emission (All Sector)"
   ]
  },
  {
   "cell_type": "code",
   "execution_count": 21,
   "id": "86a33214-9b37-4cf5-b123-9b31937e4863",
   "metadata": {},
   "outputs": [
    {
     "name": "stdout",
     "output_type": "stream",
     "text": [
      "Area\n",
      "FT Cilacap           3.672642e+09\n",
      "IP Adipala           3.428896e+09\n",
      "IP Cilegon           8.981755e+08\n",
      "Pertamina FT Poso    1.867370e+08\n",
      "IP Grati             1.733560e+08\n",
      "Name: Output_Amount, dtype: float64\n"
     ]
    }
   ],
   "source": [
    "import pandas as pd\n",
    "\n",
    "# Load the CSV file\n",
    "df = pd.read_csv('Database - All_Output.csv')\n",
    "\n",
    "# Filter the data to include only rows where the Output is 'Carbon Dioxide (CO2)'\n",
    "co2_df = df[df['Output'] == 'Carbon Dioxide (CO2)']\n",
    "\n",
    "# Convert Output_Amount to numeric in case there are any issues with the data type\n",
    "co2_df.loc[:, 'Output_Amount'] = pd.to_numeric(co2_df['Output_Amount'], errors='coerce')\n",
    "\n",
    "# Group by 'Area' and sum the 'Output_Amount' for each area\n",
    "area_co2_totals = co2_df.groupby('Area')['Output_Amount'].sum()\n",
    "\n",
    "# Sort the results from largest to smallest\n",
    "sorted_area_co2_totals = area_co2_totals.sort_values(ascending=False).head(5)\n",
    "\n",
    "# Display the sorted totals\n",
    "print(sorted_area_co2_totals)"
   ]
  },
  {
   "cell_type": "markdown",
   "id": "39644008-4f2c-48e0-a481-e9903de67c38",
   "metadata": {},
   "source": [
    "## Sector Mining"
   ]
  },
  {
   "cell_type": "code",
   "execution_count": 22,
   "id": "b14ab572-3eca-4c28-abbf-62fa7b8d698a",
   "metadata": {},
   "outputs": [
    {
     "name": "stdout",
     "output_type": "stream",
     "text": [
      "Area\n",
      "PT Timah Unit Metalurgi (Unmet) Muntok        1.391040e+08\n",
      "PT Timah Tbk Unit Metalurgi (Unmet) Kundur    3.721397e+07\n",
      "Hengjaya                                      1.388549e+07\n",
      "Timah Batu Besi                               3.251266e+05\n",
      "Name: Output_Amount, dtype: float64\n"
     ]
    }
   ],
   "source": [
    "import pandas as pd\n",
    "\n",
    "# Load the CSV file\n",
    "df = pd.read_csv('Database - All_Output.csv')\n",
    "\n",
    "# Filter the data to include only rows where the Sector is 'Mining' and the Output is 'Carbon Dioxide (CO2)'\n",
    "mining_co2_df = df[(df['Sector'] == 'Mining') & (df['Output'] == 'Carbon Dioxide (CO2)')]\n",
    "\n",
    "# Convert Output_Amount to numeric in case there are any issues with the data type\n",
    "mining_co2_df.loc[:, 'Output_Amount'] = pd.to_numeric(mining_co2_df['Output_Amount'], errors='coerce')\n",
    "\n",
    "# Group by 'Area' and sum the 'Output_Amount' for each area\n",
    "mining_area_co2_totals = mining_co2_df.groupby('Area')['Output_Amount'].sum()\n",
    "\n",
    "# Sort the results from largest to smallest\n",
    "sorted_mining_area_co2_totals = mining_area_co2_totals.sort_values(ascending=False)\n",
    "\n",
    "# Display the sorted totals\n",
    "print(sorted_mining_area_co2_totals)"
   ]
  },
  {
   "cell_type": "markdown",
   "id": "aec2bcc9-db11-418c-9cb2-dd791d83a839",
   "metadata": {},
   "source": [
    "## Sector Power Plant"
   ]
  },
  {
   "cell_type": "code",
   "execution_count": 23,
   "id": "1d5fe453-9937-45db-8a9b-2b36ee7b4976",
   "metadata": {},
   "outputs": [
    {
     "name": "stdout",
     "output_type": "stream",
     "text": [
      "Area\n",
      "IP Adipala           3.428896e+09\n",
      "IP Cilegon           8.981755e+08\n",
      "IP Grati             1.733560e+08\n",
      "IP PLTG Gilimanuk    7.005155e+06\n",
      "IP Pemaron           2.299611e+06\n",
      "Name: Output_Amount, dtype: float64\n"
     ]
    }
   ],
   "source": [
    "import pandas as pd\n",
    "\n",
    "# Load the CSV file\n",
    "df = pd.read_csv('Database - All_Output.csv')\n",
    "\n",
    "# Filter the data to include only rows where the Sector is 'Power Plant' and the Output is 'Carbon Dioxide (CO2)'\n",
    "power_plant_co2_df = df[(df['Sector'] == 'Power Plant') & (df['Output'] == 'Carbon Dioxide (CO2)')]\n",
    "\n",
    "# Convert Output_Amount to numeric in case there are any issues with the data type\n",
    "power_plant_co2_df.loc[:, 'Output_Amount'] = pd.to_numeric(power_plant_co2_df['Output_Amount'], errors='coerce')\n",
    "\n",
    "# Group by 'Area' and sum the 'Output_Amount' for each area\n",
    "power_plant_area_co2_totals = power_plant_co2_df.groupby('Area')['Output_Amount'].sum()\n",
    "\n",
    "# Sort the results from largest to smallest\n",
    "sorted_power_plant_area_co2_totals = power_plant_area_co2_totals.sort_values(ascending=False).head(5)\n",
    "\n",
    "# Display the sorted totals\n",
    "print(sorted_power_plant_area_co2_totals)"
   ]
  },
  {
   "cell_type": "markdown",
   "id": "27e821dc-a570-43e8-81e1-9b731784e663",
   "metadata": {},
   "source": [
    "## Sector Oil dan Gas Distribution"
   ]
  },
  {
   "cell_type": "code",
   "execution_count": 24,
   "id": "99167fda-851a-45bf-b3ec-e752ee7abe2e",
   "metadata": {},
   "outputs": [
    {
     "name": "stdout",
     "output_type": "stream",
     "text": [
      "Area\n",
      "FT Cilacap                                     3.672642e+09\n",
      "Pertamina FT Poso                              1.867370e+08\n",
      "Pertamina DPPU Adi Sucipto - Inventory Data    1.760049e+07\n",
      "Pertamina DPPU Adi Sucipto                     5.932943e+06\n",
      "DPPU Hasanudin                                 2.164020e+05\n",
      "Name: Output_Amount, dtype: float64\n"
     ]
    }
   ],
   "source": [
    "import pandas as pd\n",
    "\n",
    "# Load the CSV file\n",
    "df = pd.read_csv('Database - All_Output.csv')\n",
    "\n",
    "# Filter the data to include only rows where the Sector is 'Oil & Gas Distribution' and the Output is 'Carbon Dioxide (CO2)'\n",
    "oilgas_co2_df = df[(df['Sector'] == 'Oil & Gas Distribution') & (df['Output'] == 'Carbon Dioxide (CO2)')]\n",
    "\n",
    "# Convert Output_Amount to numeric in case there are any issues with the data type\n",
    "oilgas_co2_df.loc[:, 'Output_Amount'] = pd.to_numeric(oilgas_co2_df['Output_Amount'], errors='coerce')\n",
    "\n",
    "# Group by 'Area' and sum the 'Output_Amount' for each area\n",
    "oilgas_area_co2_totals = oilgas_co2_df.groupby('Area')['Output_Amount'].sum()\n",
    "\n",
    "# Sort the results from largest to smallest\n",
    "sorted_oilgas_area_co2_totals = oilgas_area_co2_totals.sort_values(ascending=False).head(5)\n",
    "\n",
    "# Display the sorted totals\n",
    "print(sorted_oilgas_area_co2_totals)"
   ]
  },
  {
   "cell_type": "markdown",
   "id": "57be7c08-917c-40d0-a2c9-4cf216c421ff",
   "metadata": {},
   "source": [
    "## 2. CO2 Emission by Unit Process"
   ]
  },
  {
   "cell_type": "code",
   "execution_count": 25,
   "id": "754e5b2e-ece8-4457-acba-c8cbdd90fe35",
   "metadata": {},
   "outputs": [
    {
     "name": "stdout",
     "output_type": "stream",
     "text": [
      "Unit_Process\n",
      "Genset         3.673509e+09\n",
      "Boiler         3.428930e+09\n",
      "HRSG           8.987772e+08\n",
      "Use Stage      2.097279e+08\n",
      "Gas Turbine    1.797115e+08\n",
      "Name: Output_Amount, dtype: float64\n"
     ]
    }
   ],
   "source": [
    "import pandas as pd\n",
    "\n",
    "# Load the CSV file\n",
    "df = pd.read_csv('Database - All_Output.csv')\n",
    "\n",
    "# Filter the data to include only rows where the Output is 'Carbon Dioxide (CO2)'\n",
    "co2_df = df[df['Output'] == 'Carbon Dioxide (CO2)']\n",
    "\n",
    "# Convert Output_Amount to numeric in case there are any issues with the data type\n",
    "co2_df.loc[:, 'Output_Amount'] = pd.to_numeric(co2_df['Output_Amount'], errors='coerce')\n",
    "\n",
    "# Group by 'Unit Process' and sum the 'Output_Amount' for each area\n",
    "unit_process_co2_totals = co2_df.groupby('Unit_Process')['Output_Amount'].sum()\n",
    "\n",
    "# Sort the results from largest to smallest\n",
    "sorted_unit_process_co2_totals = unit_process_co2_totals.sort_values(ascending=False).head(5)\n",
    "\n",
    "# Display the sorted totals\n",
    "print(sorted_unit_process_co2_totals)"
   ]
  },
  {
   "cell_type": "markdown",
   "id": "2b2e055d-d73c-4b7c-a9a0-3746d47cb1fb",
   "metadata": {},
   "source": [
    "## Sector Mining"
   ]
  },
  {
   "cell_type": "code",
   "execution_count": 26,
   "id": "53a7915e-40b9-4f11-9412-2663c27e0717",
   "metadata": {},
   "outputs": [
    {
     "name": "stdout",
     "output_type": "stream",
     "text": [
      "Unit_Process\n",
      "Mineral Processing    99759640.00\n",
      "Ore Getting           42424270.27\n",
      "Ore Bin                8637000.00\n",
      "Pengangkutan           8253892.00\n",
      "Ore Hauling            5625170.00\n",
      "Name: Output_Amount, dtype: float64\n"
     ]
    }
   ],
   "source": [
    "import pandas as pd\n",
    "\n",
    "# Load the CSV file\n",
    "df = pd.read_csv('Database - All_Output.csv')\n",
    "\n",
    "# Filter the data to include only rows where the Sector is 'Mining' and the Output is 'Carbon Dioxide (CO2)'\n",
    "mining_co2_df = df[(df['Sector'] == 'Mining') & (df['Output'] == 'Carbon Dioxide (CO2)')]\n",
    "\n",
    "# Convert Output_Amount to numeric in case there are any issues with the data type\n",
    "mining_co2_df.loc[:, 'Output_Amount'] = pd.to_numeric(mining_co2_df['Output_Amount'], errors='coerce')\n",
    "\n",
    "# Group by 'Unit Process' and sum the 'Output_Amount' for each area\n",
    "mining_unit_process_co2_totals = mining_co2_df.groupby('Unit_Process')['Output_Amount'].sum()\n",
    "\n",
    "# Sort the results from largest to smallest\n",
    "sorted_mining_unit_process_co2_totals = mining_unit_process_co2_totals.sort_values(ascending=False).head(5)\n",
    "\n",
    "# Display the sorted totals\n",
    "print(sorted_mining_unit_process_co2_totals)"
   ]
  },
  {
   "cell_type": "markdown",
   "id": "a010ee33-eb40-42a8-a955-3c169f7fc159",
   "metadata": {},
   "source": [
    "## Sector Power Plant"
   ]
  },
  {
   "cell_type": "code",
   "execution_count": 27,
   "id": "0d8039cc-a0cf-4fb4-a7d1-18143d6fd697",
   "metadata": {},
   "outputs": [
    {
     "name": "stdout",
     "output_type": "stream",
     "text": [
      "Unit_Process\n",
      "Boiler                   3.428930e+09\n",
      "HRSG                     8.987772e+08\n",
      "Gas Turbine              1.797115e+08\n",
      "Gas Turbine Generator    2.299478e+06\n",
      "HSD Storage              1.806605e+04\n",
      "Name: Output_Amount, dtype: float64\n"
     ]
    }
   ],
   "source": [
    "import pandas as pd\n",
    "\n",
    "# Load the CSV file\n",
    "df = pd.read_csv('Database - All_Output.csv')\n",
    "\n",
    "# Filter the data to include only rows where the Sector is 'Power Plant' and the Output is 'Carbon Dioxide (CO2)'\n",
    "power_plant_co2_df = df[(df['Sector'] == 'Power Plant') & (df['Output'] == 'Carbon Dioxide (CO2)')]\n",
    "\n",
    "# Convert Output_Amount to numeric in case there are any issues with the data type\n",
    "power_plant_co2_df.loc[:, 'Output_Amount'] = pd.to_numeric(power_plant_co2_df['Output_Amount'], errors='coerce')\n",
    "\n",
    "# Group by 'Unit Process' and sum the 'Output_Amount' for each area\n",
    "power_plant_unit_process_co2_totals = power_plant_co2_df.groupby('Unit_Process')['Output_Amount'].sum()\n",
    "\n",
    "# Sort the results from largest to smallest\n",
    "sorted_power_plant_unit_process_co2_totals = power_plant_unit_process_co2_totals.sort_values(ascending=False).head(5)\n",
    "\n",
    "# Display the sorted totals\n",
    "print(sorted_power_plant_unit_process_co2_totals)"
   ]
  },
  {
   "cell_type": "markdown",
   "id": "b89d4c8c-16bc-4511-83dc-dfa4d060ddae",
   "metadata": {},
   "source": [
    "## Sector Oil dan Gas Distribution"
   ]
  },
  {
   "cell_type": "code",
   "execution_count": 28,
   "id": "d594f55e-c2b4-47dd-82c9-e4f72c878774",
   "metadata": {},
   "outputs": [
    {
     "name": "stdout",
     "output_type": "stream",
     "text": [
      "Unit_Process\n",
      "Genset          3.673424e+09\n",
      "Use Stage       2.097279e+08\n",
      "Refueller       2.309870e+05\n",
      "Mobil Tangki    1.504700e+04\n",
      "Name: Output_Amount, dtype: float64\n"
     ]
    }
   ],
   "source": [
    "import pandas as pd\n",
    "\n",
    "# Load the CSV file\n",
    "df = pd.read_csv('Database - All_Output.csv')\n",
    "\n",
    "# Filter the data to include only rows where the Sector is 'Oil & Gas Distribution' and the Output is 'Carbon Dioxide (CO2)'\n",
    "oilgas_co2_df = df[(df['Sector'] == 'Oil & Gas Distribution') & (df['Output'] == 'Carbon Dioxide (CO2)')]\n",
    "\n",
    "# Convert Output_Amount to numeric in case there are any issues with the data type\n",
    "oilgas_co2_df.loc[:, 'Output_Amount'] = pd.to_numeric(oilgas_co2_df['Output_Amount'], errors='coerce')\n",
    "\n",
    "# Group by 'Unit Process' and sum the 'Output_Amount' for each area\n",
    "oilgas_unit_process_co2_totals = oilgas_co2_df.groupby('Unit_Process')['Output_Amount'].sum()\n",
    "\n",
    "# Sort the results from largest to smallest\n",
    "sorted_oilgas_unit_process_co2_totals = oilgas_unit_process_co2_totals.sort_values(ascending=False).head(5)\n",
    "\n",
    "# Display the sorted totals\n",
    "print(sorted_oilgas_unit_process_co2_totals)"
   ]
  },
  {
   "cell_type": "markdown",
   "id": "11c64029-d4f2-42f1-82ea-8516ed5544fa",
   "metadata": {},
   "source": [
    "## 3. Largest Emission by Output"
   ]
  },
  {
   "cell_type": "code",
   "execution_count": 29,
   "id": "c70c57c0-f928-4599-b752-493420bc0411",
   "metadata": {},
   "outputs": [
    {
     "name": "stdout",
     "output_type": "stream",
     "text": [
      "Output\n",
      "Nitrogen Dioxide (NO2)     5.785447e+13\n",
      "Feedwater                  5.566815e+10\n",
      "Material Tanah             3.368805e+10\n",
      "Carbon Dioxide (CO2)       8.583694e+09\n",
      "Air Laut Cooling Return    7.316190e+09\n",
      "Name: Output_Amount, dtype: float64\n"
     ]
    }
   ],
   "source": [
    "import pandas as pd\n",
    "\n",
    "# Load the CSV file\n",
    "df = pd.read_csv('Database - All_Output.csv')\n",
    "\n",
    "# Filter the dataframe for Output_Category 'Emission'\n",
    "emission_df = df[df['Output_Category'] == 'Emission']\n",
    "\n",
    "# Group by 'Output' and calculate the total 'Output_Amount'\n",
    "total_emission = emission_df.groupby('Output')['Output_Amount'].sum()\n",
    "\n",
    "# Sort the results from largest to smallest\n",
    "sorted_total_emission = total_emission.sort_values(ascending=False).head(5)\n",
    "\n",
    "# Display the results\n",
    "print(sorted_total_emission)"
   ]
  },
  {
   "cell_type": "markdown",
   "id": "692201b9-e416-4811-9a22-a1482ad79804",
   "metadata": {},
   "source": [
    "## Sector Mining"
   ]
  },
  {
   "cell_type": "code",
   "execution_count": 30,
   "id": "80c7e090",
   "metadata": {},
   "outputs": [
    {
     "name": "stdout",
     "output_type": "stream",
     "text": [
      "Output\n",
      "Feedwater                    5.566406e+10\n",
      "Material Tanah               3.368805e+10\n",
      "Waste                        2.045869e+09\n",
      "Oversize Material            9.329480e+08\n",
      "Bahan Pengotor/Impurities    7.927391e+08\n",
      "Name: Output_Amount, dtype: float64\n"
     ]
    }
   ],
   "source": [
    "import pandas as pd\n",
    "\n",
    "# Load the CSV file\n",
    "df = pd.read_csv('Database - All_Output.csv')\n",
    "\n",
    "# Filter the data to include only rows where the Sector is 'Mining' and Output_Category 'Emission'\n",
    "mining_emission_df = df[(df['Sector'] == 'Mining') & (df['Output_Category'] == 'Emission')]\n",
    "\n",
    "# Group by 'Output' and calculate the total 'Output_Amount'\n",
    "mining_total_emission = mining_emission_df.groupby('Output')['Output_Amount'].sum()\n",
    "\n",
    "# Sort the results from largest to smallest\n",
    "sorted_mining_total_emission = mining_total_emission.sort_values(ascending=False).head(5)\n",
    "\n",
    "# Display the results\n",
    "print(sorted_mining_total_emission)"
   ]
  },
  {
   "cell_type": "markdown",
   "id": "8d86b7ca-a561-4030-89e9-4b3797048dde",
   "metadata": {},
   "source": [
    "## Sector Power Plant"
   ]
  },
  {
   "cell_type": "code",
   "execution_count": 31,
   "id": "64e0b163-5519-4e91-9292-071584a564a4",
   "metadata": {},
   "outputs": [
    {
     "name": "stdout",
     "output_type": "stream",
     "text": [
      "Output\n",
      "Nitrogen Dioxide (NO2)     5.785447e+13\n",
      "Air Laut Cooling Return    7.316190e+09\n",
      "Carbon Dioxide (CO2)       4.509767e+09\n",
      "Flue Gas                   4.098702e+09\n",
      "Brine Desal Plant          2.346870e+09\n",
      "Name: Output_Amount, dtype: float64\n"
     ]
    }
   ],
   "source": [
    "import pandas as pd\n",
    "\n",
    "# Load the CSV file\n",
    "df = pd.read_csv('Database - All_Output.csv')\n",
    "\n",
    "# Filter the data to include only rows where the Sector is 'Power Plant' and Output_Category 'Emission'\n",
    "powerplant_emission_df = df[(df['Sector'] == 'Power Plant') & (df['Output_Category'] == 'Emission')]\n",
    "\n",
    "# Group by 'Output' and calculate the total 'Output_Amount'\n",
    "powerplant_total_emission = powerplant_emission_df.groupby('Output')['Output_Amount'].sum()\n",
    "\n",
    "# Sort the results from largest to smallest\n",
    "sorted_powerplant_total_emission = powerplant_total_emission.sort_values(ascending=False).head(5)\n",
    "\n",
    "# Display the results\n",
    "print(sorted_powerplant_total_emission)"
   ]
  },
  {
   "cell_type": "markdown",
   "id": "0d59969c-ed18-4308-b01c-121d563fb385",
   "metadata": {},
   "source": [
    "## Sector Oil dan Gas Distribution"
   ]
  },
  {
   "cell_type": "code",
   "execution_count": 32,
   "id": "c671fb26-34d5-48ba-9676-2d263f1fa136",
   "metadata": {},
   "outputs": [
    {
     "name": "stdout",
     "output_type": "stream",
     "text": [
      "Output\n",
      "Carbon Dioxide (CO2)                3.883398e+09\n",
      "Dinitrogen Monoxide (N2O)           9.399509e+06\n",
      "Volatile Organic Compounds (VOC)    9.393221e+06\n",
      "Methane (CH4)                       3.571372e+06\n",
      "Sulfur Oxide (SOx)                  2.746200e+05\n",
      "Name: Output_Amount, dtype: float64\n"
     ]
    }
   ],
   "source": [
    "import pandas as pd\n",
    "\n",
    "# Load the CSV file\n",
    "df = pd.read_csv('Database - All_Output.csv')\n",
    "\n",
    "# Filter the data to include only rows where the Sector is 'Oil & Gas Distribution' and Output_Category 'Emission'\n",
    "oilgas_emission_df = df[(df['Sector'] == 'Oil & Gas Distribution') & (df['Output_Category'] == 'Emission')]\n",
    "\n",
    "# Group by 'Output' and calculate the total 'Output_Amount'\n",
    "oilgas_total_emission = oilgas_emission_df.groupby('Output')['Output_Amount'].sum()\n",
    "\n",
    "# Sort the results from largest to smallest\n",
    "sorted_oilgas_total_emission = oilgas_total_emission.sort_values(ascending=False).head(5)\n",
    "\n",
    "# Display the results\n",
    "print(sorted_oilgas_total_emission)"
   ]
  },
  {
   "cell_type": "markdown",
   "id": "2589330b-e575-4c9c-aacc-e758b8fb2faa",
   "metadata": {},
   "source": [
    "## 4. Most Used Material by Input"
   ]
  },
  {
   "cell_type": "code",
   "execution_count": 33,
   "id": "fca3cec1-68cc-4640-8944-0f065676d5bf",
   "metadata": {},
   "outputs": [
    {
     "name": "stdout",
     "output_type": "stream",
     "text": [
      "Input\n",
      "Feedwater                             1.966618e+13\n",
      "Jumlah Air Masuk (Dam & Reservoir)    3.530000e+12\n",
      "Bottom Ash                            7.618815e+10\n",
      "Material Tanah                        6.821929e+10\n",
      "Fly Ash                               6.549310e+10\n",
      "Name: Input_Amount, dtype: float64\n"
     ]
    }
   ],
   "source": [
    "import pandas as pd\n",
    "\n",
    "# Load the CSV file\n",
    "df = pd.read_csv('Database - All Input.csv')\n",
    "\n",
    "# Filter the data to include only rows where the Input Category is 'Material'\n",
    "material_df = df[df['Input_Category'] == 'Material']\n",
    "\n",
    "# Convert Input_Amount to numeric in case there are any issues with the data type\n",
    "material_df.loc[:, 'Input_Amount'] = pd.to_numeric(material_df['Input_Amount'], errors='coerce')\n",
    "\n",
    "# Group by 'Input' and sum the 'Input_Amount' for each area\n",
    "input_material_totals = material_df.groupby('Input')['Input_Amount'].sum()\n",
    "\n",
    "# Sort the results from largest to smallest\n",
    "sorted_input_material_totals = input_material_totals.sort_values(ascending=False).head(5)\n",
    "\n",
    "# Display the sorted totals\n",
    "print(sorted_input_material_totals)"
   ]
  },
  {
   "cell_type": "markdown",
   "id": "3be1ecd3-6e5b-4203-8f20-6156b1a8f57a",
   "metadata": {},
   "source": [
    "## Sector Mining"
   ]
  },
  {
   "cell_type": "code",
   "execution_count": 34,
   "id": "fcd02cd6-7eb0-4d27-a747-170993f26bac",
   "metadata": {},
   "outputs": [
    {
     "name": "stdout",
     "output_type": "stream",
     "text": [
      "Input\n",
      "Material Tanah            6.821929e+10\n",
      "Tin                       1.578455e+10\n",
      "Feedwater                 1.532374e+10\n",
      "Ore                       7.688488e+09\n",
      "Ore Mineral Processing    4.032082e+09\n",
      "Name: Input_Amount, dtype: float64\n"
     ]
    }
   ],
   "source": [
    "import pandas as pd\n",
    "\n",
    "# Load the CSV file\n",
    "df = pd.read_csv('Database - All Input.csv')\n",
    "\n",
    "# Filter the data to include only rows where the Sector is 'Mining' dan Input Category is 'Material'\n",
    "mining_material_df = df[(df['Sector'] == 'Mining') & (df['Input_Category'] == 'Material')]\n",
    "\n",
    "# Convert Input_Amount to numeric in case there are any issues with the data type\n",
    "mining_material_df.loc[:, 'Input_Amount'] = pd.to_numeric(material_df['Input_Amount'], errors='coerce')\n",
    "\n",
    "# Group by 'Input' and sum the 'Input_Amount' for each area\n",
    "mining_input_material_totals = mining_material_df.groupby('Input')['Input_Amount'].sum()\n",
    "\n",
    "# Sort the results from largest to smallest\n",
    "sorted_mining_input_material_totals = mining_input_material_totals.sort_values(ascending=False).head(5)\n",
    "\n",
    "# Display the sorted totals\n",
    "print(sorted_mining_input_material_totals)"
   ]
  },
  {
   "cell_type": "markdown",
   "id": "cf699dfc-7063-4e79-a0ff-ec0c55a9bc2f",
   "metadata": {},
   "source": [
    "## Sector Power Plant"
   ]
  },
  {
   "cell_type": "code",
   "execution_count": 35,
   "id": "70aa7801-6baf-4c0e-962f-b0c75d2e7bf9",
   "metadata": {},
   "outputs": [
    {
     "name": "stdout",
     "output_type": "stream",
     "text": [
      "Input\n",
      "Feedwater                             1.965085e+13\n",
      "Jumlah Air Masuk (Dam & Reservoir)    3.530000e+12\n",
      "Bottom Ash                            7.618815e+10\n",
      "Fly Ash                               6.549310e+10\n",
      "Thermal Energy (Gas Turbine)          2.368303e+10\n",
      "Name: Input_Amount, dtype: float64\n"
     ]
    }
   ],
   "source": [
    "import pandas as pd\n",
    "\n",
    "# Load the CSV file\n",
    "df = pd.read_csv('Database - All Input.csv')\n",
    "\n",
    "# Filter the data to include only rows where the Sector is 'Power Plant' dan Input Category is 'Material'\n",
    "powerplant_material_df = df[(df['Sector'] == 'Power Plant') & (df['Input_Category'] == 'Material')]\n",
    "\n",
    "# Convert Input_Amount to numeric in case there are any issues with the data type\n",
    "powerplant_material_df.loc[:, 'Input_Amount'] = pd.to_numeric(material_df['Input_Amount'], errors='coerce')\n",
    "\n",
    "# Group by 'Input' and sum the 'Input_Amount' for each area\n",
    "powerplant_input_material_totals = powerplant_material_df.groupby('Input')['Input_Amount'].sum()\n",
    "\n",
    "# Sort the results from largest to smallest\n",
    "sorted_powerplant_input_material_totals = powerplant_input_material_totals.sort_values(ascending=False).head(5)\n",
    "\n",
    "# Display the sorted totals\n",
    "print(sorted_powerplant_input_material_totals)"
   ]
  },
  {
   "cell_type": "markdown",
   "id": "faa4253b-e02e-46a5-9aad-b3dead46cd1b",
   "metadata": {},
   "source": [
    "## Sector Oil dan Gas Distribution"
   ]
  },
  {
   "cell_type": "code",
   "execution_count": 36,
   "id": "aa9ba8b6-d28e-498c-ad62-1a7e9165bb41",
   "metadata": {},
   "outputs": [
    {
     "name": "stdout",
     "output_type": "stream",
     "text": [
      "Input\n",
      "Petreoleum        8.461900e+07\n",
      "Feedwater         8.149760e+06\n",
      "Wastewater        1.326487e+06\n",
      "Waste Lube Oil    3.107635e+04\n",
      "Oil               2.287525e+04\n",
      "Name: Input_Amount, dtype: float64\n"
     ]
    }
   ],
   "source": [
    "import pandas as pd\n",
    "\n",
    "# Load the CSV file\n",
    "df = pd.read_csv('Database - All Input.csv')\n",
    "\n",
    "# Filter the data to include only rows where the Sector is 'Oil & Gas Distribution' dan Input Category is 'Material'\n",
    "oilgas_material_df = df[(df['Sector'] == 'Oil & Gas Distribution') & (df['Input_Category'] == 'Material')]\n",
    "\n",
    "# Convert Input_Amount to numeric in case there are any issues with the data type\n",
    "oilgas_material_df.loc[:, 'Input_Amount'] = pd.to_numeric(material_df['Input_Amount'], errors='coerce')\n",
    "\n",
    "# Group by 'Input' and sum the 'Input_Amount' for each area\n",
    "oilgas_input_material_totals = oilgas_material_df.groupby('Input')['Input_Amount'].sum()\n",
    "\n",
    "# Sort the results from largest to smallest\n",
    "sorted_oilgas_input_material_totals = oilgas_input_material_totals.sort_values(ascending=False).head(5)\n",
    "\n",
    "# Display the sorted totals\n",
    "print(sorted_oilgas_input_material_totals)"
   ]
  },
  {
   "cell_type": "markdown",
   "id": "056b9afa-8f58-46a9-a808-97e31450c020",
   "metadata": {},
   "source": [
    "## 5. Input Amount by Category (All Sector)"
   ]
  },
  {
   "cell_type": "code",
   "execution_count": 37,
   "id": "03fe0823-09c3-4e0b-a63d-1cde0ac94d49",
   "metadata": {},
   "outputs": [
    {
     "name": "stdout",
     "output_type": "stream",
     "text": [
      "  Input_Category  Input_Amount\n",
      "1       Material  2.350418e+13\n",
      "0         Energy  2.724840e+12\n"
     ]
    }
   ],
   "source": [
    "import pandas as pd\n",
    "\n",
    "# Load the CSV file\n",
    "data = pd.read_csv('Database - All Input.csv')\n",
    "\n",
    "# Ensure 'Input_Amount' is numeric\n",
    "data['Input_Amount'] = pd.to_numeric(data['Input_Amount'], errors='coerce')\n",
    "\n",
    "# Group by 'Input_Category' and calculate the total 'Input_Amount'\n",
    "total_amount_by_category = data.groupby('Input_Category')['Input_Amount'].sum().reset_index()\n",
    "\n",
    "# Sort the results from largest to smallest\n",
    "sorted_total_amount_by_category = total_amount_by_category.sort_values(by='Input_Amount', ascending=False)\n",
    "\n",
    "print(sorted_total_amount_by_category)"
   ]
  },
  {
   "cell_type": "markdown",
   "id": "3efebc25-d294-4df0-bc60-ff7639776d79",
   "metadata": {},
   "source": [
    "## Sector Mining"
   ]
  },
  {
   "cell_type": "code",
   "execution_count": 38,
   "id": "c3ef9624-c2ca-41a8-a844-97b6f7e812ba",
   "metadata": {},
   "outputs": [
    {
     "name": "stdout",
     "output_type": "stream",
     "text": [
      "  Input_Category  Input_Amount\n",
      "1       Material  1.160509e+11\n",
      "0         Energy  4.269088e+07\n"
     ]
    }
   ],
   "source": [
    "import pandas as pd\n",
    "\n",
    "# Membaca file CSV\n",
    "data = pd.read_csv('Database - All Input.csv')\n",
    "\n",
    "# Filter data untuk sektor mining\n",
    "mining_data = data[data['Sector'] == 'mining']\n",
    "\n",
    "# Menghitung total Input_Amount berdasarkan Input_Category\n",
    "total_input_amount = mining_data.groupby('Input_Category')['Input_Amount'].sum().reset_index()\n",
    "\n",
    "# Menampilkan hasil\n",
    "total_input_amount\n",
    "\n",
    "# Filter data untuk sektor mining\n",
    "mining_data = data[data['Sector'] == 'Mining']\n",
    "\n",
    "# Menghitung total Input_Amount berdasarkan Input_Category\n",
    "total_input_amount = mining_data.groupby('Input_Category')['Input_Amount'].sum().reset_index()\n",
    "\n",
    "# Sort the results from largest to smallest\n",
    "sorted_total_input_amount = total_input_amount.sort_values(by='Input_Amount', ascending=False)\n",
    "\n",
    "# Menampilkan hasil\n",
    "print(sorted_total_input_amount)"
   ]
  },
  {
   "cell_type": "markdown",
   "id": "9130306c-a8fb-42ff-9e33-26e0ce4da765",
   "metadata": {},
   "source": [
    "## Sector Power Plant"
   ]
  },
  {
   "cell_type": "code",
   "execution_count": 39,
   "id": "bd08fedf-368c-4b58-a4e8-80cbd201507b",
   "metadata": {},
   "outputs": [
    {
     "name": "stdout",
     "output_type": "stream",
     "text": [
      "  Input_Category  Input_Amount\n",
      "1       Material  2.338803e+13\n",
      "0         Energy  2.623452e+12\n"
     ]
    }
   ],
   "source": [
    "import pandas as pd\n",
    "\n",
    "# Membaca file CSV\n",
    "data = pd.read_csv('Database - All Input.csv')\n",
    "\n",
    "\n",
    "# Filter data untuk sektor Power Plant\n",
    "powerplant_data = data[data['Sector'] == 'Power Plant']\n",
    "\n",
    "# Menghitung total Input_Amount berdasarkan Input_Category\n",
    "total_input_amount = powerplant_data.groupby('Input_Category')['Input_Amount'].sum().reset_index()\n",
    "\n",
    "# Menampilkan hasil\n",
    "total_input_amount\n",
    "\n",
    "# Filter data untuk sektor mining\n",
    "powerplant_data = data[data['Sector'] == 'Power Plant']\n",
    "\n",
    "# Menghitung total Input_Amount berdasarkan Input_Category\n",
    "total_input_amount = powerplant_data.groupby('Input_Category')['Input_Amount'].sum().reset_index()\n",
    "\n",
    "# Sort the results from largest to smallest\n",
    "sorted_total_input_amount = total_input_amount.sort_values(by='Input_Amount', ascending=False)\n",
    "\n",
    "# Menampilkan hasil\n",
    "print(sorted_total_input_amount)"
   ]
  },
  {
   "cell_type": "markdown",
   "id": "876ed07b-d7eb-4107-bc3d-abf4595822b0",
   "metadata": {},
   "source": [
    "## Sector Oil & Gas Distribution"
   ]
  },
  {
   "cell_type": "code",
   "execution_count": 40,
   "id": "d115471b-6bd7-46e3-ad92-aba37894f0e0",
   "metadata": {},
   "outputs": [
    {
     "name": "stdout",
     "output_type": "stream",
     "text": [
      "  Input_Category  Input_Amount\n",
      "0         Energy  1.013451e+11\n",
      "1       Material  9.416599e+07\n"
     ]
    }
   ],
   "source": [
    "import pandas as pd\n",
    "\n",
    "# Membaca file CSV\n",
    "data = pd.read_csv('Database - All Input.csv')\n",
    "\n",
    "\n",
    "# Filter data untuk sektor Oil dan Gas\n",
    "oilgas_data = data[data['Sector'] == 'Oil & Gas Distribution']\n",
    "\n",
    "# Menghitung total Input_Amount berdasarkan Input_Category\n",
    "total_input_amount = oilgas_data.groupby('Input_Category')['Input_Amount'].sum().reset_index()\n",
    "\n",
    "# Menampilkan hasil\n",
    "total_input_amount\n",
    "\n",
    "# Filter data untuk sektor mining\n",
    "oilgas_data = data[data['Sector'] == 'Oil & Gas Distribution']\n",
    "\n",
    "# Menghitung total Input_Amount berdasarkan Input_Category\n",
    "total_input_amount = oilgas_data.groupby('Input_Category')['Input_Amount'].sum().reset_index()\n",
    "\n",
    "# Sort the results from largest to smallest\n",
    "sorted_total_input_amount = total_input_amount.sort_values(by='Input_Amount', ascending=False)\n",
    "\n",
    "# Menampilkan hasil\n",
    "print(sorted_total_input_amount)"
   ]
  },
  {
   "cell_type": "markdown",
   "id": "03f71a0f-bd21-46fe-be4c-83a61aa65503",
   "metadata": {},
   "source": [
    "## 5. Output Amount by Category (All Sector)\n"
   ]
  },
  {
   "cell_type": "code",
   "execution_count": 41,
   "id": "58528f0f-a7f4-4df5-b78b-66cd02ec372b",
   "metadata": {},
   "outputs": [
    {
     "name": "stdout",
     "output_type": "stream",
     "text": [
      "  Output_Category  Output_Amount\n",
      "0        Emission   5.797498e+13\n",
      "2           Waste   2.745953e+13\n",
      "1         Product   2.654493e+12\n"
     ]
    }
   ],
   "source": [
    "import pandas as pd\n",
    "\n",
    "# Load the CSV file\n",
    "data = pd.read_csv('Database - All_Output.csv')\n",
    "\n",
    "# Ensure 'Input_Amount' is numeric\n",
    "data['Output_Amount'] = pd.to_numeric(data['Output_Amount'], errors='coerce')\n",
    "\n",
    "# Group by 'Input_Category' and calculate the total 'Input_Amount'\n",
    "total_amount_by_category = data.groupby('Output_Category')['Output_Amount'].sum().reset_index()\n",
    "\n",
    "# Sort the results from largest to smallest\n",
    "sorted_total_amount_by_category = total_amount_by_category.sort_values(by='Output_Amount', ascending=False)\n",
    "\n",
    "print(sorted_total_amount_by_category)"
   ]
  },
  {
   "cell_type": "markdown",
   "id": "05511359-1b97-4469-a5e9-540a42ae5d68",
   "metadata": {},
   "source": [
    "## Sector Mining"
   ]
  },
  {
   "cell_type": "code",
   "execution_count": 42,
   "id": "f25c806c-e810-4cf2-95da-44cbdfaa1d17",
   "metadata": {},
   "outputs": [
    {
     "name": "stdout",
     "output_type": "stream",
     "text": [
      "  Output_Category  Output_Amount\n",
      "0        Emission   9.358628e+10\n",
      "2           Waste   4.505791e+10\n",
      "1         Product   7.093703e+09\n"
     ]
    }
   ],
   "source": [
    "import pandas as pd\n",
    "\n",
    "# Membaca file CSV\n",
    "data = pd.read_csv('Database - All_Output.csv')\n",
    "\n",
    "\n",
    "# Filter data untuk sektor mining\n",
    "mining_data = data[data['Sector'] == 'Mining']\n",
    "\n",
    "# Menghitung total Input_Amount berdasarkan Input_Category\n",
    "total_output_amount = mining_data.groupby('Output_Category')['Output_Amount'].sum().reset_index()\n",
    "\n",
    "# Menampilkan hasil\n",
    "total_output_amount\n",
    "\n",
    "# Filter data untuk sektor mining\n",
    "mining_data = data[data['Sector'] == 'Mining']\n",
    "\n",
    "# Menghitung total Input_Amount berdasarkan Input_Category\n",
    "total_output_amount = mining_data.groupby('Output_Category')['Output_Amount'].sum().reset_index()\n",
    "\n",
    "# Sort the results from largest to smallest\n",
    "sorted_total_output_amount = total_output_amount.sort_values(by='Output_Amount', ascending=False)\n",
    "\n",
    "# Menampilkan hasil\n",
    "print(sorted_total_output_amount)"
   ]
  },
  {
   "cell_type": "markdown",
   "id": "0c464a53-c3cd-4777-b3b9-39619f705c33",
   "metadata": {},
   "source": [
    "## Sector Power Plant"
   ]
  },
  {
   "cell_type": "code",
   "execution_count": 43,
   "id": "7e5a58cc-7495-4f93-89cd-1b65c67916ce",
   "metadata": {},
   "outputs": [
    {
     "name": "stdout",
     "output_type": "stream",
     "text": [
      "  Output_Category  Output_Amount\n",
      "0        Emission   5.787748e+13\n",
      "2           Waste   2.733583e+13\n",
      "1         Product   2.645609e+12\n"
     ]
    }
   ],
   "source": [
    "import pandas as pd\n",
    "\n",
    "# Membaca file CSV\n",
    "data = pd.read_csv('Database - All_Output.csv')\n",
    "\n",
    "\n",
    "# Filter data untuk sektor Power Plant\n",
    "powerplant_data = data[data['Sector'] == 'Power Plant']\n",
    "\n",
    "# Menghitung total Input_Amount berdasarkan Input_Category\n",
    "total_output_amount = powerplant_data.groupby('Output_Category')['Output_Amount'].sum().reset_index()\n",
    "\n",
    "# Menampilkan hasil\n",
    "total_output_amount\n",
    "\n",
    "# Filter data untuk sektor mining\n",
    "powerplant_data = data[data['Sector'] == 'Power Plant']\n",
    "\n",
    "# Menghitung total Input_Amount berdasarkan Input_Category\n",
    "total_output_amount = powerplant_data.groupby('Output_Category')['Output_Amount'].sum().reset_index()\n",
    "\n",
    "# Sort the results from largest to smallest\n",
    "sorted_total_output_amount = total_output_amount.sort_values(by='Output_Amount', ascending=False)\n",
    "\n",
    "\n",
    "# Menampilkan hasil\n",
    "print(sorted_total_output_amount)"
   ]
  },
  {
   "cell_type": "markdown",
   "id": "866dc24e-2986-4195-822a-a5ff33f43138",
   "metadata": {},
   "source": [
    "## Sector Oil & Gas Distribution"
   ]
  },
  {
   "cell_type": "code",
   "execution_count": 44,
   "id": "be88d921-0002-40e1-99b1-a14d963d20ce",
   "metadata": {},
   "outputs": [
    {
     "name": "stdout",
     "output_type": "stream",
     "text": [
      "  Output_Category  Output_Amount\n",
      "2           Waste   7.864308e+10\n",
      "0        Emission   3.906094e+09\n",
      "1         Product   1.790653e+09\n"
     ]
    }
   ],
   "source": [
    "import pandas as pd\n",
    "\n",
    "# Membaca file CSV\n",
    "data = pd.read_csv('Database - All_Output.csv')\n",
    "\n",
    "\n",
    "# Filter data untuk sektor Oil dan Gas\n",
    "oilgas_data = data[data['Sector'] == 'Oil & Gas Distribution']\n",
    "\n",
    "# Menghitung total Input_Amount berdasarkan Input_Category\n",
    "total_output_amount = oilgas_data.groupby('Output_Category')['Output_Amount'].sum().reset_index()\n",
    "\n",
    "# Menampilkan hasil\n",
    "total_output_amount\n",
    "\n",
    "# Filter data untuk sektor mining\n",
    "oilgas_data = data[data['Sector'] == 'Oil & Gas Distribution']\n",
    "\n",
    "# Menghitung total Input_Amount berdasarkan Input_Category\n",
    "total_output_amount = oilgas_data.groupby('Output_Category')['Output_Amount'].sum().reset_index()\n",
    "\n",
    "# Sort the results from largest to smallest\n",
    "sorted_total_output_amount = total_output_amount.sort_values(by='Output_Amount', ascending=False)\n",
    "\n",
    "# Menampilkan hasil\n",
    "print(sorted_total_output_amount)"
   ]
  },
  {
   "cell_type": "markdown",
   "id": "55f80007-bd9a-4d73-8162-afa5330f7878",
   "metadata": {},
   "source": [
    "## 6. Emission to Air by Unit Process"
   ]
  },
  {
   "cell_type": "code",
   "execution_count": 45,
   "id": "2f3d6d2c-c741-4708-bca5-03005a25d8e0",
   "metadata": {},
   "outputs": [
    {
     "name": "stdout",
     "output_type": "stream",
     "text": [
      "   Unit_Process  Output_Amount\n",
      "17         HRSG   5.785580e+13\n",
      "15       Genset   3.673685e+09\n",
      "1        Boiler   3.440867e+09\n",
      "54    Use Stage   2.224215e+08\n",
      "12  Gas Turbine   2.072663e+08\n"
     ]
    }
   ],
   "source": [
    "import pandas as pd\n",
    "\n",
    "# Load the CSV file\n",
    "data = pd.read_csv('Database - For Emission to Air.csv')\n",
    "\n",
    "# Convert Output_Amount to numeric in case there are any issues with the data type\n",
    "data.loc[:, 'Output_Amount'] = pd.to_numeric(data['Output_Amount'], errors='coerce')\n",
    "\n",
    "# Group by Unit_Process and sum the Output_Amount\n",
    "unit_process_sum = data.groupby('Unit_Process')['Output_Amount'].sum().reset_index()\n",
    "\n",
    "# Sort the results from largest to smallest\n",
    "sorted_unit_process_sum = unit_process_sum.sort_values(by='Output_Amount', ascending=False).head(5)\n",
    "\n",
    "# Display the sorted totals\n",
    "print(sorted_unit_process_sum)"
   ]
  },
  {
   "cell_type": "markdown",
   "id": "a5ddd8bc-1df1-4cf8-953b-f893faa2f11c",
   "metadata": {},
   "source": [
    "## Sector Mining"
   ]
  },
  {
   "cell_type": "code",
   "execution_count": 46,
   "id": "39adfdb8-b013-415e-8c94-a069b37ca016",
   "metadata": {},
   "outputs": [
    {
     "name": "stdout",
     "output_type": "stream",
     "text": [
      "          Unit_Process  Output_Amount\n",
      "8   Mineral Processing    99886297.00\n",
      "13         Ore Getting    76083350.27\n",
      "12             Ore Bin     8637000.00\n",
      "19        Pengangkutan     8253892.00\n",
      "17           Peleburan     5843605.00\n"
     ]
    }
   ],
   "source": [
    "import pandas as pd\n",
    "\n",
    "# Load the CSV file\n",
    "data = pd.read_csv('Database - For Emission to Air.csv')\n",
    "\n",
    "# Filter the data to include only rows where the Sector is 'Mining' \n",
    "mining_data = data[data['Sector'] == 'Mining']\n",
    "\n",
    "# Convert Output_Amount to numeric in case there are any issues with the data type\n",
    "mining_data.loc[:, 'Output_Amount'] = pd.to_numeric(mining_data['Output_Amount'], errors='coerce')\n",
    "\n",
    "# Group by Unit_Process and sum the Output_Amount\n",
    "mining_unit_process_sum = mining_data.groupby('Unit_Process')['Output_Amount'].sum().reset_index()\n",
    "\n",
    "# Sort the results from largest to smallest\n",
    "sorted_mining_unit_process_sum = mining_unit_process_sum.sort_values(by='Output_Amount', ascending=False).head(5)\n",
    "\n",
    "# Display the sorted totals\n",
    "print(sorted_mining_unit_process_sum)"
   ]
  },
  {
   "cell_type": "markdown",
   "id": "5be4d865-d7b0-4537-8a98-39d98644fc18",
   "metadata": {},
   "source": [
    "## Sector Power Plant"
   ]
  },
  {
   "cell_type": "code",
   "execution_count": 47,
   "id": "bd44b200-1781-4d83-a0ba-3ccdf058f101",
   "metadata": {},
   "outputs": [
    {
     "name": "stdout",
     "output_type": "stream",
     "text": [
      "       Unit_Process  Output_Amount\n",
      "11             HRSG   5.785580e+13\n",
      "0            Boiler   3.440867e+09\n",
      "8       Gas Turbine   2.072663e+08\n",
      "21    TPS Limbah B3   8.280385e+07\n",
      "22  Unit Pembangkit   3.933020e+06\n"
     ]
    }
   ],
   "source": [
    "import pandas as pd\n",
    "\n",
    "# Load the CSV file\n",
    "data = pd.read_csv('Database - For Emission to Air.csv')\n",
    "\n",
    "# Filter the data to include only rows where the Sector is 'Power Plant' \n",
    "powerplant_data = data[data['Sector'] == 'Power Plant']\n",
    "\n",
    "# Convert Output_Amount to numeric in case there are any issues with the data type\n",
    "powerplant_data.loc[:, 'Output_Amount'] = pd.to_numeric(powerplant_data['Output_Amount'], errors='coerce')\n",
    "\n",
    "# Group by Unit_Process and sum the Output_Amount\n",
    "powerplant_unit_process_sum = powerplant_data.groupby('Unit_Process')['Output_Amount'].sum().reset_index()\n",
    "\n",
    "# Sort the results from largest to smallest\n",
    "sorted_powerplant_unit_process_sum = powerplant_unit_process_sum.sort_values(by='Output_Amount', ascending=False).head(5)\n",
    "\n",
    "# Display the sorted totals\n",
    "print(sorted_powerplant_unit_process_sum)"
   ]
  },
  {
   "cell_type": "markdown",
   "id": "c52eb7b6-d73f-43f6-b463-34e33db2d110",
   "metadata": {},
   "source": [
    "## Sector Oil dan Gas Distribution"
   ]
  },
  {
   "cell_type": "code",
   "execution_count": 48,
   "id": "d35d375d-eb1c-4b55-a780-d77fabfac97a",
   "metadata": {},
   "outputs": [
    {
     "name": "stdout",
     "output_type": "stream",
     "text": [
      "   Unit_Process  Output_Amount\n",
      "0        Genset   3.673574e+09\n",
      "5     Use Stage   2.224215e+08\n",
      "4  Storage Tank   5.685341e+06\n",
      "2         Pompa   2.087880e+06\n",
      "1  Mobil Tangki   2.048824e+06\n"
     ]
    }
   ],
   "source": [
    "import pandas as pd\n",
    "\n",
    "# Load the CSV file\n",
    "data = pd.read_csv('Database - For Emission to Air.csv')\n",
    "\n",
    "# Filter the data to include only rows where the Sector is 'Oil & Gas Distribution' \n",
    "oilgas_data = data[data['Sector'] == 'Oil & Gas Distribution']\n",
    "\n",
    "# Convert Output_Amount to numeric in case there are any issues with the data type\n",
    "oilgas_data.loc[:, 'Output_Amount'] = pd.to_numeric(oilgas_data['Output_Amount'], errors='coerce')\n",
    "\n",
    "# Group by Unit_Process and sum the Output_Amount\n",
    "oilgas_unit_process_sum = oilgas_data.groupby('Unit_Process')['Output_Amount'].sum().reset_index()\n",
    "\n",
    "# Sort the results from largest to smallest\n",
    "sorted_oilgas_unit_process_sum = oilgas_unit_process_sum.sort_values(by='Output_Amount', ascending=False).head(5)\n",
    "\n",
    "# Display the sorted totals\n",
    "print(sorted_oilgas_unit_process_sum)"
   ]
  },
  {
   "cell_type": "markdown",
   "id": "4833e775-ad96-4156-bcac-b75d79e9952e",
   "metadata": {},
   "source": [
    "## 7. Waste Lube Oil by Unit Process"
   ]
  },
  {
   "cell_type": "code",
   "execution_count": 49,
   "id": "8b680ac0-f4a9-442b-9c3f-c94bf75d5aab",
   "metadata": {},
   "outputs": [
    {
     "name": "stdout",
     "output_type": "stream",
     "text": [
      "Unit_Process\n",
      "TPS Limbah B3      16444.48\n",
      "Gas Turbine        15460.00\n",
      "Unit Pembangkit    15130.00\n",
      "Genset             13658.24\n",
      "Oil Tank Unit       7284.51\n",
      "Name: Output_Amount, dtype: float64\n"
     ]
    }
   ],
   "source": [
    "import pandas as pd\n",
    "\n",
    "# Load the CSV file\n",
    "df = pd.read_csv('Database - All_Output.csv')\n",
    "\n",
    "# Filter the data to include only rows where the Output is 'Waste Lube Oil'\n",
    "wastelubeoil_df = df[df['Output'] == 'Waste Lube Oil']\n",
    "\n",
    "# Convert Input_Amount to numeric in case there are any issues with the data type\n",
    "wastelubeoil_df.loc[:, 'Output_Amount'] = pd.to_numeric(wastelubeoil_df['Output_Amount'], errors='coerce')\n",
    "\n",
    "# Group by 'Unit Process' and sum the 'Output_Amount' for each area\n",
    "unit_process_totals = wastelubeoil_df.groupby('Unit_Process')['Output_Amount'].sum()\n",
    "\n",
    "# Sort the results from largest to smallest\n",
    "sorted_unit_process_totals = unit_process_totals.sort_values(ascending=False).head(5)\n",
    "\n",
    "# Display the sorted totals\n",
    "print(sorted_unit_process_totals)"
   ]
  },
  {
   "cell_type": "markdown",
   "id": "e0b16bea-748a-49ae-97f8-951b6ad32c5f",
   "metadata": {},
   "source": [
    "## Sector Mining"
   ]
  },
  {
   "cell_type": "code",
   "execution_count": 50,
   "id": "6aa09c53-d7ed-4ea7-84e4-2822d6f41b33",
   "metadata": {},
   "outputs": [
    {
     "name": "stdout",
     "output_type": "stream",
     "text": [
      "Unit_Process\n",
      "Genset    13500.0\n",
      "Gudang      748.0\n",
      "Mixing      748.0\n",
      "Name: Output_Amount, dtype: float64\n"
     ]
    }
   ],
   "source": [
    "import pandas as pd\n",
    "\n",
    "# Load the CSV file\n",
    "df = pd.read_csv('Database - All_Output.csv')\n",
    "\n",
    "# Filter the data to include only rows where the Sector is 'Mining' and Output is 'Waste Lube Oil'\n",
    "mining_wastelubeoil_df = df[(df['Sector'] == 'Mining') & (df['Output'] == 'Waste Lube Oil')]\n",
    "\n",
    "# Convert Input_Amount to numeric in case there are any issues with the data type\n",
    "mining_wastelubeoil_df.loc[:, 'Output_Amount'] = pd.to_numeric(mining_wastelubeoil_df['Output_Amount'], errors='coerce')\n",
    "\n",
    "# Group by 'Unit Process' and sum the 'Output_Amount' for each area\n",
    "mining_unit_process_totals = mining_wastelubeoil_df.groupby('Unit_Process')['Output_Amount'].sum()\n",
    "\n",
    "# Sort the results from largest to smallest\n",
    "sorted_mining_unit_process_totals = mining_unit_process_totals.sort_values(ascending=False)\n",
    "\n",
    "# Display the sorted totals\n",
    "print(sorted_mining_unit_process_totals)"
   ]
  },
  {
   "cell_type": "markdown",
   "id": "0f54f17f-4599-4495-bb67-33fd8c9d8d9e",
   "metadata": {},
   "source": [
    "## Sector Power Plant"
   ]
  },
  {
   "cell_type": "code",
   "execution_count": 51,
   "id": "53bd1f89-54bd-489e-b9dd-8e40a2ce715d",
   "metadata": {},
   "outputs": [
    {
     "name": "stdout",
     "output_type": "stream",
     "text": [
      "Unit_Process\n",
      "TPS Limbah B3      16444.48\n",
      "Gas Turbine        15460.00\n",
      "Unit Pembangkit    15130.00\n",
      "Oil Tank Unit       7284.51\n",
      "Hazardous Waste     5050.00\n",
      "Name: Output_Amount, dtype: float64\n"
     ]
    }
   ],
   "source": [
    "import pandas as pd\n",
    "\n",
    "# Load the CSV file\n",
    "df = pd.read_csv('Database - All_Output.csv')\n",
    "\n",
    "# Filter the data to include only rows where the Sector is 'Power Plant' and Output is 'Waste Lube Oil'\n",
    "powerplant_wastelubeoil_df = df[(df['Sector'] == 'Power Plant') & (df['Output'] == 'Waste Lube Oil')]\n",
    "\n",
    "# Convert Input_Amount to numeric in case there are any issues with the data type\n",
    "powerplant_wastelubeoil_df.loc[:, 'Output_Amount'] = pd.to_numeric(powerplant_wastelubeoil_df['Output_Amount'], errors='coerce')\n",
    "\n",
    "# Group by 'Unit Process' and sum the 'Output_Amount' for each area\n",
    "powerplant_unit_process_totals = powerplant_wastelubeoil_df.groupby('Unit_Process')['Output_Amount'].sum()\n",
    "\n",
    "# Sort the results from largest to smallest\n",
    "sorted_powerplant_unit_process_totals = powerplant_unit_process_totals.sort_values(ascending=False).head(5)\n",
    "\n",
    "# Display the sorted totals\n",
    "print(sorted_powerplant_unit_process_totals)"
   ]
  },
  {
   "cell_type": "markdown",
   "id": "ad6c5e83-5d05-4b67-9ed1-4041214ead7a",
   "metadata": {},
   "source": [
    "## Sector Oil dan Gas Distribution"
   ]
  },
  {
   "cell_type": "code",
   "execution_count": 52,
   "id": "a5a46119-1d00-4efe-a708-26857ed8d871",
   "metadata": {},
   "outputs": [
    {
     "name": "stdout",
     "output_type": "stream",
     "text": [
      "Unit_Process\n",
      "Refueller    926.22\n",
      "Genset       158.24\n",
      "Pompa         43.00\n",
      "Name: Output_Amount, dtype: float64\n"
     ]
    }
   ],
   "source": [
    "import pandas as pd\n",
    "\n",
    "# Load the CSV file\n",
    "df = pd.read_csv('Database - All_Output.csv')\n",
    "\n",
    "# Filter the data to include only rows where the Sector is 'Power Plant' and Output is 'Waste Lube Oil'\n",
    "oilgas_wastelubeoil_df = df[(df['Sector'] == 'Oil & Gas Distribution') & (df['Output'] == 'Waste Lube Oil')]\n",
    "\n",
    "# Convert Input_Amount to numeric in case there are any issues with the data type\n",
    "oilgas_wastelubeoil_df.loc[:, 'Output_Amount'] = pd.to_numeric(oilgas_wastelubeoil_df['Output_Amount'], errors='coerce')\n",
    "\n",
    "# Group by 'Unit Process' and sum the 'Output_Amount' for each area\n",
    "oilgas_unit_process_totals = oilgas_wastelubeoil_df.groupby('Unit_Process')['Output_Amount'].sum()\n",
    "\n",
    "# Sort the results from largest to smallest\n",
    "sorted_oilgas_unit_process_totals = oilgas_unit_process_totals.sort_values(ascending=False)\n",
    "\n",
    "# Display the sorted totals\n",
    "print(sorted_oilgas_unit_process_totals)"
   ]
  },
  {
   "cell_type": "markdown",
   "id": "815bde86-0ee0-47c9-a4e3-7699d5e3e8c4",
   "metadata": {},
   "source": [
    "## 8. Emission Comparison Across Sectors"
   ]
  },
  {
   "cell_type": "code",
   "execution_count": 53,
   "id": "f83e0a90-df84-43d9-907a-82fcd17bab4a",
   "metadata": {},
   "outputs": [
    {
     "name": "stdout",
     "output_type": "stream",
     "text": [
      "                   Sector  Output_Amount\n",
      "2             Power Plant   5.787748e+13\n",
      "0                  Mining   9.358628e+10\n",
      "1  Oil & Gas Distribution   3.906094e+09\n"
     ]
    }
   ],
   "source": [
    "import pandas as pd\n",
    "\n",
    "# Load the CSV file to examine its structure\n",
    "data = pd.read_csv('Database - All_Output.csv')\n",
    "\n",
    "# Filter data untuk Output_Category 'Emission'\n",
    "emission_data = data[data['Output_Category'] == 'Emission']\n",
    "\n",
    "# Hitung total Output_Amount untuk setiap Sector\n",
    "emission_totals_by_sector = emission_data.groupby('Sector')['Output_Amount'].sum().reset_index()\n",
    "\n",
    "# Sort the results from largest to smallest\n",
    "sorted_emission_totals_by_sector = emission_totals_by_sector.sort_values(by='Output_Amount', ascending=False)\n",
    "\n",
    "# Display the result\n",
    "print(sorted_emission_totals_by_sector)"
   ]
  }
 ],
 "metadata": {
  "kernelspec": {
   "display_name": "Python 3 (ipykernel)",
   "language": "python",
   "name": "python3"
  },
  "language_info": {
   "codemirror_mode": {
    "name": "ipython",
    "version": 3
   },
   "file_extension": ".py",
   "mimetype": "text/x-python",
   "name": "python",
   "nbconvert_exporter": "python",
   "pygments_lexer": "ipython3",
   "version": "3.11.7"
  }
 },
 "nbformat": 4,
 "nbformat_minor": 5
}
